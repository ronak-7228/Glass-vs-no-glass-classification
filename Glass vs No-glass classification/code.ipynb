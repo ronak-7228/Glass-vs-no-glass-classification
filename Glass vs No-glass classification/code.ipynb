{
  "nbformat": 4,
  "nbformat_minor": 0,
  "metadata": {
    "colab": {
      "name": "Glass vs No glass(Major).ipynb",
      "provenance": [],
      "collapsed_sections": []
    },
    "kernelspec": {
      "display_name": "Python 3",
      "name": "python3"
    },
    "language_info": {
      "name": "python"
    }
  },
  "cells": [
    {
      "cell_type": "markdown",
      "metadata": {
        "id": "SH05cGFYtDO6"
      },
      "source": [
        "# **Group Project Topic : Glass or not glass**\n",
        "\n",
        "**Group Member :**\n",
        "\n",
        "*1. Ronak SInghvi*\n",
        "\n",
        "*2. Man Rajkotiya*\n",
        "\n",
        "*3. Shantanu Bakshi*"
      ]
    },
    {
      "cell_type": "code",
      "metadata": {
        "id": "h9hh1Rh1vTXu"
      },
      "source": [
        "import os\n",
        "import numpy as np # linear algebra\n",
        "import pandas as pd # data processing, CSV file I/O (e.g. pd.read_csv)\n",
        "from sklearn.svm import SVC\n",
        "from sklearn.metrics import accuracy_score\n",
        "from sklearn.model_selection import train_test_split\n",
        "from sklearn.preprocessing import StandardScaler\n",
        "from sklearn.datasets import make_classification\n",
        "from sklearn.metrics import confusion_matrix\n",
        "from sklearn.metrics import plot_confusion_matrix\n",
        "from sklearn.metrics import precision_recall_fscore_support\n",
        "\n",
        "import matplotlib.pyplot as plt      # import library for plotting graphs\n",
        "from matplotlib import rcParams\n",
        "from sklearn.model_selection import cross_val_score\n",
        "from matplotlib import pyplot\n",
        "from sklearn import metrics"
      ],
      "execution_count": 1,
      "outputs": []
    },
    {
      "cell_type": "code",
      "metadata": {
        "id": "p3M7MfLIvV9X",
        "colab": {
          "base_uri": "https://localhost:8080/",
          "height": 247
        },
        "outputId": "7ed205a7-0f51-4c0d-a144-a24aad5acd01"
      },
      "source": [
        "train = pd.read_csv('/content/train.csv')\n",
        "train.head()"
      ],
      "execution_count": 2,
      "outputs": [
        {
          "output_type": "execute_result",
          "data": {
            "text/html": [
              "<div>\n",
              "<style scoped>\n",
              "    .dataframe tbody tr th:only-of-type {\n",
              "        vertical-align: middle;\n",
              "    }\n",
              "\n",
              "    .dataframe tbody tr th {\n",
              "        vertical-align: top;\n",
              "    }\n",
              "\n",
              "    .dataframe thead th {\n",
              "        text-align: right;\n",
              "    }\n",
              "</style>\n",
              "<table border=\"1\" class=\"dataframe\">\n",
              "  <thead>\n",
              "    <tr style=\"text-align: right;\">\n",
              "      <th></th>\n",
              "      <th>id</th>\n",
              "      <th>v1</th>\n",
              "      <th>v2</th>\n",
              "      <th>v3</th>\n",
              "      <th>v4</th>\n",
              "      <th>v5</th>\n",
              "      <th>v6</th>\n",
              "      <th>v7</th>\n",
              "      <th>v8</th>\n",
              "      <th>v9</th>\n",
              "      <th>v10</th>\n",
              "      <th>v11</th>\n",
              "      <th>v12</th>\n",
              "      <th>v13</th>\n",
              "      <th>v14</th>\n",
              "      <th>v15</th>\n",
              "      <th>v16</th>\n",
              "      <th>v17</th>\n",
              "      <th>v18</th>\n",
              "      <th>v19</th>\n",
              "      <th>v20</th>\n",
              "      <th>v21</th>\n",
              "      <th>v22</th>\n",
              "      <th>v23</th>\n",
              "      <th>v24</th>\n",
              "      <th>v25</th>\n",
              "      <th>v26</th>\n",
              "      <th>v27</th>\n",
              "      <th>v28</th>\n",
              "      <th>v29</th>\n",
              "      <th>v30</th>\n",
              "      <th>v31</th>\n",
              "      <th>v32</th>\n",
              "      <th>v33</th>\n",
              "      <th>v34</th>\n",
              "      <th>v35</th>\n",
              "      <th>v36</th>\n",
              "      <th>v37</th>\n",
              "      <th>v38</th>\n",
              "      <th>v39</th>\n",
              "      <th>...</th>\n",
              "      <th>v474</th>\n",
              "      <th>v475</th>\n",
              "      <th>v476</th>\n",
              "      <th>v477</th>\n",
              "      <th>v478</th>\n",
              "      <th>v479</th>\n",
              "      <th>v480</th>\n",
              "      <th>v481</th>\n",
              "      <th>v482</th>\n",
              "      <th>v483</th>\n",
              "      <th>v484</th>\n",
              "      <th>v485</th>\n",
              "      <th>v486</th>\n",
              "      <th>v487</th>\n",
              "      <th>v488</th>\n",
              "      <th>v489</th>\n",
              "      <th>v490</th>\n",
              "      <th>v491</th>\n",
              "      <th>v492</th>\n",
              "      <th>v493</th>\n",
              "      <th>v494</th>\n",
              "      <th>v495</th>\n",
              "      <th>v496</th>\n",
              "      <th>v497</th>\n",
              "      <th>v498</th>\n",
              "      <th>v499</th>\n",
              "      <th>v500</th>\n",
              "      <th>v501</th>\n",
              "      <th>v502</th>\n",
              "      <th>v503</th>\n",
              "      <th>v504</th>\n",
              "      <th>v505</th>\n",
              "      <th>v506</th>\n",
              "      <th>v507</th>\n",
              "      <th>v508</th>\n",
              "      <th>v509</th>\n",
              "      <th>v510</th>\n",
              "      <th>v511</th>\n",
              "      <th>v512</th>\n",
              "      <th>glasses</th>\n",
              "    </tr>\n",
              "  </thead>\n",
              "  <tbody>\n",
              "    <tr>\n",
              "      <th>0</th>\n",
              "      <td>1</td>\n",
              "      <td>0.37797</td>\n",
              "      <td>-0.94808</td>\n",
              "      <td>0.01346</td>\n",
              "      <td>0.17893</td>\n",
              "      <td>0.37795</td>\n",
              "      <td>0.63571</td>\n",
              "      <td>0.13943</td>\n",
              "      <td>-0.25607</td>\n",
              "      <td>-0.39341</td>\n",
              "      <td>1.08947</td>\n",
              "      <td>-1.36048</td>\n",
              "      <td>-1.31529</td>\n",
              "      <td>0.36119</td>\n",
              "      <td>-0.62857</td>\n",
              "      <td>-1.65290</td>\n",
              "      <td>1.47167</td>\n",
              "      <td>-0.88741</td>\n",
              "      <td>-0.25942</td>\n",
              "      <td>-0.34414</td>\n",
              "      <td>-0.38914</td>\n",
              "      <td>0.38425</td>\n",
              "      <td>-0.50553</td>\n",
              "      <td>-0.09451</td>\n",
              "      <td>0.30568</td>\n",
              "      <td>-1.07570</td>\n",
              "      <td>-0.65924</td>\n",
              "      <td>1.10918</td>\n",
              "      <td>1.22234</td>\n",
              "      <td>-0.12479</td>\n",
              "      <td>0.50198</td>\n",
              "      <td>-0.63932</td>\n",
              "      <td>0.61505</td>\n",
              "      <td>1.16747</td>\n",
              "      <td>0.36921</td>\n",
              "      <td>-0.44398</td>\n",
              "      <td>0.46192</td>\n",
              "      <td>-0.83207</td>\n",
              "      <td>-0.74952</td>\n",
              "      <td>-0.40722</td>\n",
              "      <td>...</td>\n",
              "      <td>0.54072</td>\n",
              "      <td>-0.71995</td>\n",
              "      <td>1.11262</td>\n",
              "      <td>-0.11429</td>\n",
              "      <td>0.85618</td>\n",
              "      <td>0.17233</td>\n",
              "      <td>-1.06815</td>\n",
              "      <td>0.04569</td>\n",
              "      <td>-0.13031</td>\n",
              "      <td>2.07549</td>\n",
              "      <td>0.47934</td>\n",
              "      <td>0.69172</td>\n",
              "      <td>1.37139</td>\n",
              "      <td>0.45480</td>\n",
              "      <td>-0.96053</td>\n",
              "      <td>0.06319</td>\n",
              "      <td>0.09664</td>\n",
              "      <td>-0.34749</td>\n",
              "      <td>0.09889</td>\n",
              "      <td>-0.87606</td>\n",
              "      <td>0.82594</td>\n",
              "      <td>0.52841</td>\n",
              "      <td>0.84209</td>\n",
              "      <td>0.16771</td>\n",
              "      <td>0.59003</td>\n",
              "      <td>-0.22960</td>\n",
              "      <td>-0.04017</td>\n",
              "      <td>0.15554</td>\n",
              "      <td>-0.41569</td>\n",
              "      <td>0.68050</td>\n",
              "      <td>-0.03494</td>\n",
              "      <td>1.32443</td>\n",
              "      <td>-0.94570</td>\n",
              "      <td>0.02055</td>\n",
              "      <td>-1.23908</td>\n",
              "      <td>0.43507</td>\n",
              "      <td>1.08635</td>\n",
              "      <td>1.69027</td>\n",
              "      <td>0.61609</td>\n",
              "      <td>0</td>\n",
              "    </tr>\n",
              "    <tr>\n",
              "      <th>1</th>\n",
              "      <td>2</td>\n",
              "      <td>0.07609</td>\n",
              "      <td>-0.09774</td>\n",
              "      <td>0.39666</td>\n",
              "      <td>-0.39026</td>\n",
              "      <td>0.10606</td>\n",
              "      <td>0.52774</td>\n",
              "      <td>0.07105</td>\n",
              "      <td>0.33720</td>\n",
              "      <td>0.69917</td>\n",
              "      <td>-0.02842</td>\n",
              "      <td>-0.56431</td>\n",
              "      <td>0.42060</td>\n",
              "      <td>-0.47533</td>\n",
              "      <td>1.60025</td>\n",
              "      <td>-0.02106</td>\n",
              "      <td>-2.30193</td>\n",
              "      <td>-0.31614</td>\n",
              "      <td>-0.08050</td>\n",
              "      <td>0.85041</td>\n",
              "      <td>-0.10574</td>\n",
              "      <td>-0.33177</td>\n",
              "      <td>-1.32102</td>\n",
              "      <td>-0.22244</td>\n",
              "      <td>-0.52076</td>\n",
              "      <td>0.40012</td>\n",
              "      <td>-0.41339</td>\n",
              "      <td>-0.15176</td>\n",
              "      <td>1.02155</td>\n",
              "      <td>-0.52834</td>\n",
              "      <td>0.66718</td>\n",
              "      <td>0.54844</td>\n",
              "      <td>0.18323</td>\n",
              "      <td>0.28764</td>\n",
              "      <td>-0.80084</td>\n",
              "      <td>-0.85040</td>\n",
              "      <td>0.45097</td>\n",
              "      <td>0.88317</td>\n",
              "      <td>-1.13375</td>\n",
              "      <td>-1.85301</td>\n",
              "      <td>...</td>\n",
              "      <td>-0.25966</td>\n",
              "      <td>-1.19259</td>\n",
              "      <td>-0.71514</td>\n",
              "      <td>-0.08903</td>\n",
              "      <td>-0.58853</td>\n",
              "      <td>-0.20697</td>\n",
              "      <td>-0.77025</td>\n",
              "      <td>-1.21129</td>\n",
              "      <td>-0.67575</td>\n",
              "      <td>0.32509</td>\n",
              "      <td>-0.35147</td>\n",
              "      <td>-0.33581</td>\n",
              "      <td>-0.31505</td>\n",
              "      <td>-1.66721</td>\n",
              "      <td>0.40666</td>\n",
              "      <td>0.15053</td>\n",
              "      <td>-0.77809</td>\n",
              "      <td>0.35837</td>\n",
              "      <td>-1.10950</td>\n",
              "      <td>0.03764</td>\n",
              "      <td>-0.93728</td>\n",
              "      <td>-0.68952</td>\n",
              "      <td>-0.92334</td>\n",
              "      <td>-0.35401</td>\n",
              "      <td>-1.20552</td>\n",
              "      <td>1.10199</td>\n",
              "      <td>0.46268</td>\n",
              "      <td>0.85954</td>\n",
              "      <td>-0.48484</td>\n",
              "      <td>-0.54585</td>\n",
              "      <td>0.86624</td>\n",
              "      <td>-1.24953</td>\n",
              "      <td>-0.21511</td>\n",
              "      <td>-1.54146</td>\n",
              "      <td>1.04765</td>\n",
              "      <td>-1.24035</td>\n",
              "      <td>0.00866</td>\n",
              "      <td>-1.27640</td>\n",
              "      <td>-0.60496</td>\n",
              "      <td>1</td>\n",
              "    </tr>\n",
              "    <tr>\n",
              "      <th>2</th>\n",
              "      <td>3</td>\n",
              "      <td>1.19391</td>\n",
              "      <td>-0.68707</td>\n",
              "      <td>-0.68422</td>\n",
              "      <td>-0.36378</td>\n",
              "      <td>-0.60847</td>\n",
              "      <td>-0.40118</td>\n",
              "      <td>1.45432</td>\n",
              "      <td>0.00592</td>\n",
              "      <td>1.68940</td>\n",
              "      <td>-0.98205</td>\n",
              "      <td>0.67435</td>\n",
              "      <td>-1.27604</td>\n",
              "      <td>-1.37050</td>\n",
              "      <td>-0.91682</td>\n",
              "      <td>0.23617</td>\n",
              "      <td>0.53676</td>\n",
              "      <td>-0.26815</td>\n",
              "      <td>-0.66989</td>\n",
              "      <td>0.46076</td>\n",
              "      <td>-0.04117</td>\n",
              "      <td>1.34078</td>\n",
              "      <td>0.46545</td>\n",
              "      <td>-0.25943</td>\n",
              "      <td>-0.22918</td>\n",
              "      <td>-0.49346</td>\n",
              "      <td>-0.53558</td>\n",
              "      <td>0.69776</td>\n",
              "      <td>1.15477</td>\n",
              "      <td>0.01293</td>\n",
              "      <td>-0.86763</td>\n",
              "      <td>-0.08987</td>\n",
              "      <td>0.54660</td>\n",
              "      <td>0.09142</td>\n",
              "      <td>-0.21663</td>\n",
              "      <td>-0.28233</td>\n",
              "      <td>0.15426</td>\n",
              "      <td>-1.02164</td>\n",
              "      <td>-0.24342</td>\n",
              "      <td>-0.18844</td>\n",
              "      <td>...</td>\n",
              "      <td>0.91472</td>\n",
              "      <td>-0.29778</td>\n",
              "      <td>0.45507</td>\n",
              "      <td>0.03296</td>\n",
              "      <td>-0.79752</td>\n",
              "      <td>1.19759</td>\n",
              "      <td>-0.45417</td>\n",
              "      <td>0.15993</td>\n",
              "      <td>0.39516</td>\n",
              "      <td>-0.87621</td>\n",
              "      <td>0.05737</td>\n",
              "      <td>-0.99432</td>\n",
              "      <td>1.19910</td>\n",
              "      <td>0.78989</td>\n",
              "      <td>-0.13908</td>\n",
              "      <td>0.12384</td>\n",
              "      <td>0.38121</td>\n",
              "      <td>0.05699</td>\n",
              "      <td>-0.89445</td>\n",
              "      <td>-0.67448</td>\n",
              "      <td>-0.07669</td>\n",
              "      <td>-1.50409</td>\n",
              "      <td>0.07962</td>\n",
              "      <td>0.95116</td>\n",
              "      <td>0.72782</td>\n",
              "      <td>-0.88516</td>\n",
              "      <td>0.40735</td>\n",
              "      <td>0.10415</td>\n",
              "      <td>0.31639</td>\n",
              "      <td>-0.34801</td>\n",
              "      <td>-0.35893</td>\n",
              "      <td>0.02330</td>\n",
              "      <td>0.31548</td>\n",
              "      <td>-0.34923</td>\n",
              "      <td>-0.41772</td>\n",
              "      <td>-0.58175</td>\n",
              "      <td>-0.60177</td>\n",
              "      <td>0.43555</td>\n",
              "      <td>0.41982</td>\n",
              "      <td>1</td>\n",
              "    </tr>\n",
              "    <tr>\n",
              "      <th>3</th>\n",
              "      <td>4</td>\n",
              "      <td>1.34949</td>\n",
              "      <td>-0.31498</td>\n",
              "      <td>-1.30248</td>\n",
              "      <td>0.50278</td>\n",
              "      <td>1.66292</td>\n",
              "      <td>-1.06094</td>\n",
              "      <td>-0.70835</td>\n",
              "      <td>-0.24237</td>\n",
              "      <td>-0.15509</td>\n",
              "      <td>-0.04532</td>\n",
              "      <td>0.97349</td>\n",
              "      <td>-0.21032</td>\n",
              "      <td>-0.71143</td>\n",
              "      <td>0.59725</td>\n",
              "      <td>-0.51849</td>\n",
              "      <td>0.00126</td>\n",
              "      <td>1.22219</td>\n",
              "      <td>0.57160</td>\n",
              "      <td>0.41212</td>\n",
              "      <td>0.90077</td>\n",
              "      <td>-0.80797</td>\n",
              "      <td>-1.20564</td>\n",
              "      <td>1.40774</td>\n",
              "      <td>0.49080</td>\n",
              "      <td>-1.05429</td>\n",
              "      <td>0.26300</td>\n",
              "      <td>-0.03849</td>\n",
              "      <td>-0.66792</td>\n",
              "      <td>-0.29260</td>\n",
              "      <td>0.47713</td>\n",
              "      <td>0.44967</td>\n",
              "      <td>0.44411</td>\n",
              "      <td>-0.13465</td>\n",
              "      <td>-0.20365</td>\n",
              "      <td>0.52841</td>\n",
              "      <td>-0.47348</td>\n",
              "      <td>0.39295</td>\n",
              "      <td>0.67695</td>\n",
              "      <td>0.40861</td>\n",
              "      <td>...</td>\n",
              "      <td>0.65551</td>\n",
              "      <td>-0.17916</td>\n",
              "      <td>0.55700</td>\n",
              "      <td>1.84589</td>\n",
              "      <td>0.70722</td>\n",
              "      <td>-0.55871</td>\n",
              "      <td>-1.18265</td>\n",
              "      <td>0.82509</td>\n",
              "      <td>-0.50715</td>\n",
              "      <td>0.71948</td>\n",
              "      <td>-1.08462</td>\n",
              "      <td>-0.05607</td>\n",
              "      <td>0.86918</td>\n",
              "      <td>-0.11338</td>\n",
              "      <td>-0.73700</td>\n",
              "      <td>-0.12130</td>\n",
              "      <td>0.81417</td>\n",
              "      <td>-0.61391</td>\n",
              "      <td>-0.90671</td>\n",
              "      <td>1.09301</td>\n",
              "      <td>0.37716</td>\n",
              "      <td>1.06373</td>\n",
              "      <td>-0.62199</td>\n",
              "      <td>-0.21279</td>\n",
              "      <td>-0.43245</td>\n",
              "      <td>-0.28904</td>\n",
              "      <td>-0.25435</td>\n",
              "      <td>-0.20458</td>\n",
              "      <td>-0.00398</td>\n",
              "      <td>1.18449</td>\n",
              "      <td>0.23942</td>\n",
              "      <td>0.20774</td>\n",
              "      <td>0.81792</td>\n",
              "      <td>-0.74814</td>\n",
              "      <td>-0.62521</td>\n",
              "      <td>0.01689</td>\n",
              "      <td>0.83997</td>\n",
              "      <td>-0.46986</td>\n",
              "      <td>0.06755</td>\n",
              "      <td>0</td>\n",
              "    </tr>\n",
              "    <tr>\n",
              "      <th>4</th>\n",
              "      <td>5</td>\n",
              "      <td>-0.03512</td>\n",
              "      <td>-0.34196</td>\n",
              "      <td>0.14230</td>\n",
              "      <td>1.50513</td>\n",
              "      <td>-0.14364</td>\n",
              "      <td>0.49429</td>\n",
              "      <td>0.07823</td>\n",
              "      <td>-0.04356</td>\n",
              "      <td>0.42009</td>\n",
              "      <td>-0.88828</td>\n",
              "      <td>0.13601</td>\n",
              "      <td>0.26917</td>\n",
              "      <td>0.11973</td>\n",
              "      <td>0.04378</td>\n",
              "      <td>1.06879</td>\n",
              "      <td>0.10060</td>\n",
              "      <td>-0.83331</td>\n",
              "      <td>-0.64776</td>\n",
              "      <td>0.26461</td>\n",
              "      <td>0.65249</td>\n",
              "      <td>-0.41807</td>\n",
              "      <td>0.65920</td>\n",
              "      <td>0.11838</td>\n",
              "      <td>-0.00525</td>\n",
              "      <td>-0.74657</td>\n",
              "      <td>-0.97743</td>\n",
              "      <td>-0.71398</td>\n",
              "      <td>-0.08356</td>\n",
              "      <td>-0.82942</td>\n",
              "      <td>0.60474</td>\n",
              "      <td>0.12790</td>\n",
              "      <td>-0.41187</td>\n",
              "      <td>-2.18319</td>\n",
              "      <td>0.27367</td>\n",
              "      <td>0.54507</td>\n",
              "      <td>0.26555</td>\n",
              "      <td>0.67382</td>\n",
              "      <td>-0.24832</td>\n",
              "      <td>0.43397</td>\n",
              "      <td>...</td>\n",
              "      <td>0.90449</td>\n",
              "      <td>-0.51652</td>\n",
              "      <td>-0.11353</td>\n",
              "      <td>1.59131</td>\n",
              "      <td>-0.15053</td>\n",
              "      <td>-0.03551</td>\n",
              "      <td>0.02906</td>\n",
              "      <td>0.16957</td>\n",
              "      <td>0.62629</td>\n",
              "      <td>0.71465</td>\n",
              "      <td>-0.77525</td>\n",
              "      <td>0.46366</td>\n",
              "      <td>0.03279</td>\n",
              "      <td>-0.17744</td>\n",
              "      <td>0.32256</td>\n",
              "      <td>0.16237</td>\n",
              "      <td>-0.52918</td>\n",
              "      <td>-1.07961</td>\n",
              "      <td>0.55594</td>\n",
              "      <td>0.07770</td>\n",
              "      <td>0.08003</td>\n",
              "      <td>0.86164</td>\n",
              "      <td>0.24552</td>\n",
              "      <td>-0.17842</td>\n",
              "      <td>0.57825</td>\n",
              "      <td>0.01275</td>\n",
              "      <td>-1.05442</td>\n",
              "      <td>-0.61130</td>\n",
              "      <td>0.72826</td>\n",
              "      <td>-1.61306</td>\n",
              "      <td>-1.78407</td>\n",
              "      <td>0.07465</td>\n",
              "      <td>1.50182</td>\n",
              "      <td>-0.41289</td>\n",
              "      <td>-0.55908</td>\n",
              "      <td>-0.29702</td>\n",
              "      <td>0.83641</td>\n",
              "      <td>0.59756</td>\n",
              "      <td>-0.20298</td>\n",
              "      <td>0</td>\n",
              "    </tr>\n",
              "  </tbody>\n",
              "</table>\n",
              "<p>5 rows × 514 columns</p>\n",
              "</div>"
            ],
            "text/plain": [
              "   id       v1       v2       v3  ...     v510     v511     v512  glasses\n",
              "0   1  0.37797 -0.94808  0.01346  ...  1.08635  1.69027  0.61609        0\n",
              "1   2  0.07609 -0.09774  0.39666  ...  0.00866 -1.27640 -0.60496        1\n",
              "2   3  1.19391 -0.68707 -0.68422  ... -0.60177  0.43555  0.41982        1\n",
              "3   4  1.34949 -0.31498 -1.30248  ...  0.83997 -0.46986  0.06755        0\n",
              "4   5 -0.03512 -0.34196  0.14230  ...  0.83641  0.59756 -0.20298        0\n",
              "\n",
              "[5 rows x 514 columns]"
            ]
          },
          "metadata": {
            "tags": []
          },
          "execution_count": 2
        }
      ]
    },
    {
      "cell_type": "code",
      "metadata": {
        "colab": {
          "base_uri": "https://localhost:8080/"
        },
        "id": "kgspfmbbK81e",
        "outputId": "c7818baa-5564-40e4-a452-d3da8e85ea2e"
      },
      "source": [
        "print(train.shape)"
      ],
      "execution_count": 3,
      "outputs": [
        {
          "output_type": "stream",
          "text": [
            "(4500, 514)\n"
          ],
          "name": "stdout"
        }
      ]
    },
    {
      "cell_type": "code",
      "metadata": {
        "colab": {
          "base_uri": "https://localhost:8080/"
        },
        "id": "PtyvUItkwhg8",
        "outputId": "030d302f-eac1-4a83-f43b-a85559a10280"
      },
      "source": [
        "train.info"
      ],
      "execution_count": 4,
      "outputs": [
        {
          "output_type": "execute_result",
          "data": {
            "text/plain": [
              "<bound method DataFrame.info of         id       v1       v2       v3  ...     v510     v511     v512  glasses\n",
              "0        1  0.37797 -0.94808  0.01346  ...  1.08635  1.69027  0.61609        0\n",
              "1        2  0.07609 -0.09774  0.39666  ...  0.00866 -1.27640 -0.60496        1\n",
              "2        3  1.19391 -0.68707 -0.68422  ... -0.60177  0.43555  0.41982        1\n",
              "3        4  1.34949 -0.31498 -1.30248  ...  0.83997 -0.46986  0.06755        0\n",
              "4        5 -0.03512 -0.34196  0.14230  ...  0.83641  0.59756 -0.20298        0\n",
              "...    ...      ...      ...      ...  ...      ...      ...      ...      ...\n",
              "4495  4496  0.54554  0.63002  1.99328  ...  0.57461  1.69958  0.43941        0\n",
              "4496  4497 -0.26235  0.50776 -0.74164  ... -0.33767 -0.01251  0.06872        0\n",
              "4497  4498 -0.81564 -0.46034 -0.40044  ...  0.14222  0.10394 -0.33635        1\n",
              "4498  4499  0.09764 -0.05440 -1.53883  ... -0.25393  0.84022 -0.13068        1\n",
              "4499  4500  0.48335  1.66099 -1.98407  ...  0.06201 -2.24746  0.17192        0\n",
              "\n",
              "[4500 rows x 514 columns]>"
            ]
          },
          "metadata": {
            "tags": []
          },
          "execution_count": 4
        }
      ]
    },
    {
      "cell_type": "code",
      "metadata": {
        "colab": {
          "base_uri": "https://localhost:8080/",
          "height": 337
        },
        "id": "VJju2_DMwqIh",
        "outputId": "c4c33b21-3583-457d-f031-8db4526ccca9"
      },
      "source": [
        "train.describe()"
      ],
      "execution_count": 5,
      "outputs": [
        {
          "output_type": "execute_result",
          "data": {
            "text/html": [
              "<div>\n",
              "<style scoped>\n",
              "    .dataframe tbody tr th:only-of-type {\n",
              "        vertical-align: middle;\n",
              "    }\n",
              "\n",
              "    .dataframe tbody tr th {\n",
              "        vertical-align: top;\n",
              "    }\n",
              "\n",
              "    .dataframe thead th {\n",
              "        text-align: right;\n",
              "    }\n",
              "</style>\n",
              "<table border=\"1\" class=\"dataframe\">\n",
              "  <thead>\n",
              "    <tr style=\"text-align: right;\">\n",
              "      <th></th>\n",
              "      <th>id</th>\n",
              "      <th>v1</th>\n",
              "      <th>v2</th>\n",
              "      <th>v3</th>\n",
              "      <th>v4</th>\n",
              "      <th>v5</th>\n",
              "      <th>v6</th>\n",
              "      <th>v7</th>\n",
              "      <th>v8</th>\n",
              "      <th>v9</th>\n",
              "      <th>v10</th>\n",
              "      <th>v11</th>\n",
              "      <th>v12</th>\n",
              "      <th>v13</th>\n",
              "      <th>v14</th>\n",
              "      <th>v15</th>\n",
              "      <th>v16</th>\n",
              "      <th>v17</th>\n",
              "      <th>v18</th>\n",
              "      <th>v19</th>\n",
              "      <th>v20</th>\n",
              "      <th>v21</th>\n",
              "      <th>v22</th>\n",
              "      <th>v23</th>\n",
              "      <th>v24</th>\n",
              "      <th>v25</th>\n",
              "      <th>v26</th>\n",
              "      <th>v27</th>\n",
              "      <th>v28</th>\n",
              "      <th>v29</th>\n",
              "      <th>v30</th>\n",
              "      <th>v31</th>\n",
              "      <th>v32</th>\n",
              "      <th>v33</th>\n",
              "      <th>v34</th>\n",
              "      <th>v35</th>\n",
              "      <th>v36</th>\n",
              "      <th>v37</th>\n",
              "      <th>v38</th>\n",
              "      <th>v39</th>\n",
              "      <th>...</th>\n",
              "      <th>v474</th>\n",
              "      <th>v475</th>\n",
              "      <th>v476</th>\n",
              "      <th>v477</th>\n",
              "      <th>v478</th>\n",
              "      <th>v479</th>\n",
              "      <th>v480</th>\n",
              "      <th>v481</th>\n",
              "      <th>v482</th>\n",
              "      <th>v483</th>\n",
              "      <th>v484</th>\n",
              "      <th>v485</th>\n",
              "      <th>v486</th>\n",
              "      <th>v487</th>\n",
              "      <th>v488</th>\n",
              "      <th>v489</th>\n",
              "      <th>v490</th>\n",
              "      <th>v491</th>\n",
              "      <th>v492</th>\n",
              "      <th>v493</th>\n",
              "      <th>v494</th>\n",
              "      <th>v495</th>\n",
              "      <th>v496</th>\n",
              "      <th>v497</th>\n",
              "      <th>v498</th>\n",
              "      <th>v499</th>\n",
              "      <th>v500</th>\n",
              "      <th>v501</th>\n",
              "      <th>v502</th>\n",
              "      <th>v503</th>\n",
              "      <th>v504</th>\n",
              "      <th>v505</th>\n",
              "      <th>v506</th>\n",
              "      <th>v507</th>\n",
              "      <th>v508</th>\n",
              "      <th>v509</th>\n",
              "      <th>v510</th>\n",
              "      <th>v511</th>\n",
              "      <th>v512</th>\n",
              "      <th>glasses</th>\n",
              "    </tr>\n",
              "  </thead>\n",
              "  <tbody>\n",
              "    <tr>\n",
              "      <th>count</th>\n",
              "      <td>4500.000000</td>\n",
              "      <td>4500.000000</td>\n",
              "      <td>4500.000000</td>\n",
              "      <td>4500.000000</td>\n",
              "      <td>4500.000000</td>\n",
              "      <td>4500.000000</td>\n",
              "      <td>4500.000000</td>\n",
              "      <td>4500.000000</td>\n",
              "      <td>4500.000000</td>\n",
              "      <td>4500.000000</td>\n",
              "      <td>4500.000000</td>\n",
              "      <td>4500.000000</td>\n",
              "      <td>4500.000000</td>\n",
              "      <td>4500.000000</td>\n",
              "      <td>4500.000000</td>\n",
              "      <td>4500.000000</td>\n",
              "      <td>4500.000000</td>\n",
              "      <td>4500.000000</td>\n",
              "      <td>4500.000000</td>\n",
              "      <td>4500.000000</td>\n",
              "      <td>4500.000000</td>\n",
              "      <td>4500.000000</td>\n",
              "      <td>4500.000000</td>\n",
              "      <td>4500.000000</td>\n",
              "      <td>4500.000000</td>\n",
              "      <td>4500.000000</td>\n",
              "      <td>4500.000000</td>\n",
              "      <td>4500.000000</td>\n",
              "      <td>4500.000000</td>\n",
              "      <td>4500.000000</td>\n",
              "      <td>4500.000000</td>\n",
              "      <td>4500.000000</td>\n",
              "      <td>4500.000000</td>\n",
              "      <td>4500.000000</td>\n",
              "      <td>4500.000000</td>\n",
              "      <td>4500.000000</td>\n",
              "      <td>4500.000000</td>\n",
              "      <td>4500.000000</td>\n",
              "      <td>4500.000000</td>\n",
              "      <td>4500.000000</td>\n",
              "      <td>...</td>\n",
              "      <td>4500.000000</td>\n",
              "      <td>4500.000000</td>\n",
              "      <td>4500.000000</td>\n",
              "      <td>4500.000000</td>\n",
              "      <td>4500.000000</td>\n",
              "      <td>4500.000000</td>\n",
              "      <td>4500.000000</td>\n",
              "      <td>4500.000000</td>\n",
              "      <td>4500.000000</td>\n",
              "      <td>4500.000000</td>\n",
              "      <td>4500.000000</td>\n",
              "      <td>4500.000000</td>\n",
              "      <td>4500.000000</td>\n",
              "      <td>4500.000000</td>\n",
              "      <td>4500.000000</td>\n",
              "      <td>4500.000000</td>\n",
              "      <td>4500.000000</td>\n",
              "      <td>4500.000000</td>\n",
              "      <td>4500.000000</td>\n",
              "      <td>4500.000000</td>\n",
              "      <td>4500.000000</td>\n",
              "      <td>4500.000000</td>\n",
              "      <td>4500.000000</td>\n",
              "      <td>4500.000000</td>\n",
              "      <td>4500.000000</td>\n",
              "      <td>4500.000000</td>\n",
              "      <td>4500.000000</td>\n",
              "      <td>4500.000000</td>\n",
              "      <td>4500.000000</td>\n",
              "      <td>4500.000000</td>\n",
              "      <td>4500.000000</td>\n",
              "      <td>4500.000000</td>\n",
              "      <td>4500.000000</td>\n",
              "      <td>4500.000000</td>\n",
              "      <td>4500.000000</td>\n",
              "      <td>4500.000000</td>\n",
              "      <td>4500.000000</td>\n",
              "      <td>4500.000000</td>\n",
              "      <td>4500.000000</td>\n",
              "      <td>4500.000000</td>\n",
              "    </tr>\n",
              "    <tr>\n",
              "      <th>mean</th>\n",
              "      <td>2250.500000</td>\n",
              "      <td>0.029433</td>\n",
              "      <td>-0.072952</td>\n",
              "      <td>-0.063137</td>\n",
              "      <td>-0.027426</td>\n",
              "      <td>0.009050</td>\n",
              "      <td>-0.032587</td>\n",
              "      <td>0.005451</td>\n",
              "      <td>-0.101231</td>\n",
              "      <td>-0.134099</td>\n",
              "      <td>0.067560</td>\n",
              "      <td>-0.002083</td>\n",
              "      <td>0.078040</td>\n",
              "      <td>-0.024938</td>\n",
              "      <td>-0.029395</td>\n",
              "      <td>0.027814</td>\n",
              "      <td>-0.050992</td>\n",
              "      <td>0.121394</td>\n",
              "      <td>0.106751</td>\n",
              "      <td>0.001935</td>\n",
              "      <td>0.047460</td>\n",
              "      <td>-0.018330</td>\n",
              "      <td>-0.058942</td>\n",
              "      <td>0.055872</td>\n",
              "      <td>-0.083219</td>\n",
              "      <td>-0.023057</td>\n",
              "      <td>0.045138</td>\n",
              "      <td>0.080400</td>\n",
              "      <td>-0.032720</td>\n",
              "      <td>0.037929</td>\n",
              "      <td>0.016872</td>\n",
              "      <td>0.175460</td>\n",
              "      <td>0.086574</td>\n",
              "      <td>-0.088680</td>\n",
              "      <td>-0.054209</td>\n",
              "      <td>-0.019898</td>\n",
              "      <td>0.085469</td>\n",
              "      <td>-0.146745</td>\n",
              "      <td>-0.000734</td>\n",
              "      <td>-0.163095</td>\n",
              "      <td>...</td>\n",
              "      <td>0.013406</td>\n",
              "      <td>0.087366</td>\n",
              "      <td>-0.048248</td>\n",
              "      <td>-0.077322</td>\n",
              "      <td>-0.049410</td>\n",
              "      <td>0.018462</td>\n",
              "      <td>-0.036421</td>\n",
              "      <td>0.053984</td>\n",
              "      <td>-0.128585</td>\n",
              "      <td>-0.037571</td>\n",
              "      <td>-0.038897</td>\n",
              "      <td>0.082227</td>\n",
              "      <td>-0.075013</td>\n",
              "      <td>-0.074086</td>\n",
              "      <td>0.044075</td>\n",
              "      <td>0.009034</td>\n",
              "      <td>-0.207801</td>\n",
              "      <td>0.119168</td>\n",
              "      <td>-0.002119</td>\n",
              "      <td>0.023028</td>\n",
              "      <td>-0.082201</td>\n",
              "      <td>-0.060344</td>\n",
              "      <td>-0.088316</td>\n",
              "      <td>0.023726</td>\n",
              "      <td>0.088277</td>\n",
              "      <td>0.025180</td>\n",
              "      <td>-0.027934</td>\n",
              "      <td>0.067269</td>\n",
              "      <td>-0.020810</td>\n",
              "      <td>-0.115068</td>\n",
              "      <td>-0.091886</td>\n",
              "      <td>0.057622</td>\n",
              "      <td>-0.063235</td>\n",
              "      <td>-0.081697</td>\n",
              "      <td>-0.032337</td>\n",
              "      <td>-0.084307</td>\n",
              "      <td>-0.032826</td>\n",
              "      <td>0.096038</td>\n",
              "      <td>-0.064696</td>\n",
              "      <td>0.634667</td>\n",
              "    </tr>\n",
              "    <tr>\n",
              "      <th>std</th>\n",
              "      <td>1299.182435</td>\n",
              "      <td>0.769812</td>\n",
              "      <td>0.740963</td>\n",
              "      <td>0.746607</td>\n",
              "      <td>0.744712</td>\n",
              "      <td>0.775853</td>\n",
              "      <td>0.770992</td>\n",
              "      <td>0.761690</td>\n",
              "      <td>0.748796</td>\n",
              "      <td>0.746005</td>\n",
              "      <td>0.747827</td>\n",
              "      <td>0.714939</td>\n",
              "      <td>0.706872</td>\n",
              "      <td>0.663820</td>\n",
              "      <td>0.812123</td>\n",
              "      <td>0.755075</td>\n",
              "      <td>0.751805</td>\n",
              "      <td>0.772157</td>\n",
              "      <td>0.723660</td>\n",
              "      <td>0.758057</td>\n",
              "      <td>0.767998</td>\n",
              "      <td>0.712469</td>\n",
              "      <td>0.770689</td>\n",
              "      <td>0.754416</td>\n",
              "      <td>0.761771</td>\n",
              "      <td>0.773681</td>\n",
              "      <td>0.764593</td>\n",
              "      <td>0.735932</td>\n",
              "      <td>0.751691</td>\n",
              "      <td>0.776739</td>\n",
              "      <td>0.743376</td>\n",
              "      <td>0.767899</td>\n",
              "      <td>0.815652</td>\n",
              "      <td>0.763232</td>\n",
              "      <td>0.731656</td>\n",
              "      <td>0.746060</td>\n",
              "      <td>0.718874</td>\n",
              "      <td>0.770070</td>\n",
              "      <td>0.780750</td>\n",
              "      <td>0.745571</td>\n",
              "      <td>...</td>\n",
              "      <td>0.695161</td>\n",
              "      <td>0.696326</td>\n",
              "      <td>0.770055</td>\n",
              "      <td>0.681999</td>\n",
              "      <td>0.755388</td>\n",
              "      <td>0.738660</td>\n",
              "      <td>0.758322</td>\n",
              "      <td>0.713244</td>\n",
              "      <td>0.762161</td>\n",
              "      <td>0.752204</td>\n",
              "      <td>0.745001</td>\n",
              "      <td>0.753694</td>\n",
              "      <td>0.729876</td>\n",
              "      <td>0.771973</td>\n",
              "      <td>0.752416</td>\n",
              "      <td>0.766827</td>\n",
              "      <td>0.738646</td>\n",
              "      <td>0.724609</td>\n",
              "      <td>0.774068</td>\n",
              "      <td>0.750480</td>\n",
              "      <td>0.746982</td>\n",
              "      <td>0.809670</td>\n",
              "      <td>0.735013</td>\n",
              "      <td>0.692339</td>\n",
              "      <td>0.820121</td>\n",
              "      <td>0.757211</td>\n",
              "      <td>0.757624</td>\n",
              "      <td>0.748709</td>\n",
              "      <td>0.755673</td>\n",
              "      <td>0.735968</td>\n",
              "      <td>0.735644</td>\n",
              "      <td>0.739561</td>\n",
              "      <td>0.731691</td>\n",
              "      <td>0.761166</td>\n",
              "      <td>0.738119</td>\n",
              "      <td>0.743303</td>\n",
              "      <td>0.756891</td>\n",
              "      <td>0.737970</td>\n",
              "      <td>0.830538</td>\n",
              "      <td>0.481577</td>\n",
              "    </tr>\n",
              "    <tr>\n",
              "      <th>min</th>\n",
              "      <td>1.000000</td>\n",
              "      <td>-2.895330</td>\n",
              "      <td>-2.381940</td>\n",
              "      <td>-2.599930</td>\n",
              "      <td>-2.748930</td>\n",
              "      <td>-2.291530</td>\n",
              "      <td>-4.020940</td>\n",
              "      <td>-2.736720</td>\n",
              "      <td>-2.872970</td>\n",
              "      <td>-2.397950</td>\n",
              "      <td>-2.768610</td>\n",
              "      <td>-3.220590</td>\n",
              "      <td>-2.342850</td>\n",
              "      <td>-3.063600</td>\n",
              "      <td>-2.655160</td>\n",
              "      <td>-2.394360</td>\n",
              "      <td>-2.711950</td>\n",
              "      <td>-3.070490</td>\n",
              "      <td>-2.352870</td>\n",
              "      <td>-2.819900</td>\n",
              "      <td>-2.521800</td>\n",
              "      <td>-2.366830</td>\n",
              "      <td>-3.290500</td>\n",
              "      <td>-2.332010</td>\n",
              "      <td>-2.569310</td>\n",
              "      <td>-2.460720</td>\n",
              "      <td>-2.406860</td>\n",
              "      <td>-2.527720</td>\n",
              "      <td>-2.841720</td>\n",
              "      <td>-2.551610</td>\n",
              "      <td>-2.209130</td>\n",
              "      <td>-3.108830</td>\n",
              "      <td>-2.674820</td>\n",
              "      <td>-3.121610</td>\n",
              "      <td>-3.072380</td>\n",
              "      <td>-2.545570</td>\n",
              "      <td>-2.077640</td>\n",
              "      <td>-3.127940</td>\n",
              "      <td>-2.741990</td>\n",
              "      <td>-2.663210</td>\n",
              "      <td>...</td>\n",
              "      <td>-2.409010</td>\n",
              "      <td>-2.726200</td>\n",
              "      <td>-2.931060</td>\n",
              "      <td>-2.221200</td>\n",
              "      <td>-2.210510</td>\n",
              "      <td>-2.548280</td>\n",
              "      <td>-2.654120</td>\n",
              "      <td>-2.666030</td>\n",
              "      <td>-2.746630</td>\n",
              "      <td>-2.810960</td>\n",
              "      <td>-3.180610</td>\n",
              "      <td>-2.232400</td>\n",
              "      <td>-2.435070</td>\n",
              "      <td>-3.109640</td>\n",
              "      <td>-2.594380</td>\n",
              "      <td>-2.391540</td>\n",
              "      <td>-2.737760</td>\n",
              "      <td>-2.293100</td>\n",
              "      <td>-2.493990</td>\n",
              "      <td>-2.443920</td>\n",
              "      <td>-2.523910</td>\n",
              "      <td>-3.252070</td>\n",
              "      <td>-2.860860</td>\n",
              "      <td>-2.447960</td>\n",
              "      <td>-2.610140</td>\n",
              "      <td>-2.591580</td>\n",
              "      <td>-2.418330</td>\n",
              "      <td>-2.469600</td>\n",
              "      <td>-2.350780</td>\n",
              "      <td>-2.586140</td>\n",
              "      <td>-2.788230</td>\n",
              "      <td>-2.624400</td>\n",
              "      <td>-2.806240</td>\n",
              "      <td>-2.907480</td>\n",
              "      <td>-3.136690</td>\n",
              "      <td>-2.490630</td>\n",
              "      <td>-2.510730</td>\n",
              "      <td>-2.626380</td>\n",
              "      <td>-2.906970</td>\n",
              "      <td>0.000000</td>\n",
              "    </tr>\n",
              "    <tr>\n",
              "      <th>25%</th>\n",
              "      <td>1125.750000</td>\n",
              "      <td>-0.489807</td>\n",
              "      <td>-0.568788</td>\n",
              "      <td>-0.575425</td>\n",
              "      <td>-0.548003</td>\n",
              "      <td>-0.541330</td>\n",
              "      <td>-0.550515</td>\n",
              "      <td>-0.516868</td>\n",
              "      <td>-0.582322</td>\n",
              "      <td>-0.658523</td>\n",
              "      <td>-0.455873</td>\n",
              "      <td>-0.501383</td>\n",
              "      <td>-0.369287</td>\n",
              "      <td>-0.458875</td>\n",
              "      <td>-0.574332</td>\n",
              "      <td>-0.507650</td>\n",
              "      <td>-0.573000</td>\n",
              "      <td>-0.408225</td>\n",
              "      <td>-0.340958</td>\n",
              "      <td>-0.458318</td>\n",
              "      <td>-0.479683</td>\n",
              "      <td>-0.532473</td>\n",
              "      <td>-0.578270</td>\n",
              "      <td>-0.474053</td>\n",
              "      <td>-0.608855</td>\n",
              "      <td>-0.556867</td>\n",
              "      <td>-0.519232</td>\n",
              "      <td>-0.421403</td>\n",
              "      <td>-0.543945</td>\n",
              "      <td>-0.482272</td>\n",
              "      <td>-0.518310</td>\n",
              "      <td>-0.352270</td>\n",
              "      <td>-0.421890</td>\n",
              "      <td>-0.608073</td>\n",
              "      <td>-0.528593</td>\n",
              "      <td>-0.550990</td>\n",
              "      <td>-0.401840</td>\n",
              "      <td>-0.679805</td>\n",
              "      <td>-0.508170</td>\n",
              "      <td>-0.679905</td>\n",
              "      <td>...</td>\n",
              "      <td>-0.481070</td>\n",
              "      <td>-0.370643</td>\n",
              "      <td>-0.584160</td>\n",
              "      <td>-0.557238</td>\n",
              "      <td>-0.579320</td>\n",
              "      <td>-0.475710</td>\n",
              "      <td>-0.549527</td>\n",
              "      <td>-0.449155</td>\n",
              "      <td>-0.654935</td>\n",
              "      <td>-0.538730</td>\n",
              "      <td>-0.536833</td>\n",
              "      <td>-0.431907</td>\n",
              "      <td>-0.587237</td>\n",
              "      <td>-0.583605</td>\n",
              "      <td>-0.457930</td>\n",
              "      <td>-0.532620</td>\n",
              "      <td>-0.745502</td>\n",
              "      <td>-0.390815</td>\n",
              "      <td>-0.571108</td>\n",
              "      <td>-0.472615</td>\n",
              "      <td>-0.595675</td>\n",
              "      <td>-0.625995</td>\n",
              "      <td>-0.561387</td>\n",
              "      <td>-0.422462</td>\n",
              "      <td>-0.490190</td>\n",
              "      <td>-0.485117</td>\n",
              "      <td>-0.550500</td>\n",
              "      <td>-0.434775</td>\n",
              "      <td>-0.524475</td>\n",
              "      <td>-0.622802</td>\n",
              "      <td>-0.537458</td>\n",
              "      <td>-0.445472</td>\n",
              "      <td>-0.546610</td>\n",
              "      <td>-0.601095</td>\n",
              "      <td>-0.506628</td>\n",
              "      <td>-0.605840</td>\n",
              "      <td>-0.546325</td>\n",
              "      <td>-0.373465</td>\n",
              "      <td>-0.615955</td>\n",
              "      <td>0.000000</td>\n",
              "    </tr>\n",
              "    <tr>\n",
              "      <th>50%</th>\n",
              "      <td>2250.500000</td>\n",
              "      <td>-0.001540</td>\n",
              "      <td>-0.097665</td>\n",
              "      <td>-0.053115</td>\n",
              "      <td>-0.058240</td>\n",
              "      <td>0.003175</td>\n",
              "      <td>-0.046450</td>\n",
              "      <td>0.005075</td>\n",
              "      <td>-0.097295</td>\n",
              "      <td>-0.149740</td>\n",
              "      <td>0.065725</td>\n",
              "      <td>-0.007320</td>\n",
              "      <td>0.080315</td>\n",
              "      <td>-0.009320</td>\n",
              "      <td>0.001515</td>\n",
              "      <td>0.041750</td>\n",
              "      <td>-0.062430</td>\n",
              "      <td>0.112935</td>\n",
              "      <td>0.099890</td>\n",
              "      <td>0.012465</td>\n",
              "      <td>0.055430</td>\n",
              "      <td>-0.042265</td>\n",
              "      <td>-0.047530</td>\n",
              "      <td>0.064735</td>\n",
              "      <td>-0.099105</td>\n",
              "      <td>-0.012610</td>\n",
              "      <td>0.047975</td>\n",
              "      <td>0.026570</td>\n",
              "      <td>-0.007420</td>\n",
              "      <td>0.032800</td>\n",
              "      <td>0.003765</td>\n",
              "      <td>0.160000</td>\n",
              "      <td>0.109210</td>\n",
              "      <td>-0.107670</td>\n",
              "      <td>-0.055145</td>\n",
              "      <td>-0.038115</td>\n",
              "      <td>0.092935</td>\n",
              "      <td>-0.132700</td>\n",
              "      <td>0.003645</td>\n",
              "      <td>-0.176855</td>\n",
              "      <td>...</td>\n",
              "      <td>0.004000</td>\n",
              "      <td>0.099025</td>\n",
              "      <td>-0.097875</td>\n",
              "      <td>-0.088620</td>\n",
              "      <td>-0.041255</td>\n",
              "      <td>0.003495</td>\n",
              "      <td>-0.039660</td>\n",
              "      <td>0.019855</td>\n",
              "      <td>-0.134450</td>\n",
              "      <td>-0.062815</td>\n",
              "      <td>-0.026915</td>\n",
              "      <td>0.086500</td>\n",
              "      <td>-0.076280</td>\n",
              "      <td>-0.058240</td>\n",
              "      <td>0.035485</td>\n",
              "      <td>-0.007160</td>\n",
              "      <td>-0.241880</td>\n",
              "      <td>0.109675</td>\n",
              "      <td>-0.010965</td>\n",
              "      <td>0.015885</td>\n",
              "      <td>-0.057410</td>\n",
              "      <td>-0.083050</td>\n",
              "      <td>-0.106960</td>\n",
              "      <td>0.053910</td>\n",
              "      <td>0.047800</td>\n",
              "      <td>-0.000835</td>\n",
              "      <td>-0.039730</td>\n",
              "      <td>0.065215</td>\n",
              "      <td>-0.030805</td>\n",
              "      <td>-0.107200</td>\n",
              "      <td>-0.124335</td>\n",
              "      <td>0.034310</td>\n",
              "      <td>-0.045235</td>\n",
              "      <td>-0.103520</td>\n",
              "      <td>-0.038690</td>\n",
              "      <td>-0.099355</td>\n",
              "      <td>-0.032260</td>\n",
              "      <td>0.113235</td>\n",
              "      <td>-0.082685</td>\n",
              "      <td>1.000000</td>\n",
              "    </tr>\n",
              "    <tr>\n",
              "      <th>75%</th>\n",
              "      <td>3375.250000</td>\n",
              "      <td>0.507332</td>\n",
              "      <td>0.405330</td>\n",
              "      <td>0.458388</td>\n",
              "      <td>0.478182</td>\n",
              "      <td>0.555465</td>\n",
              "      <td>0.498605</td>\n",
              "      <td>0.506625</td>\n",
              "      <td>0.379340</td>\n",
              "      <td>0.377330</td>\n",
              "      <td>0.584847</td>\n",
              "      <td>0.476470</td>\n",
              "      <td>0.545117</td>\n",
              "      <td>0.402982</td>\n",
              "      <td>0.533885</td>\n",
              "      <td>0.566397</td>\n",
              "      <td>0.479283</td>\n",
              "      <td>0.636960</td>\n",
              "      <td>0.568085</td>\n",
              "      <td>0.465523</td>\n",
              "      <td>0.551242</td>\n",
              "      <td>0.430757</td>\n",
              "      <td>0.455900</td>\n",
              "      <td>0.570518</td>\n",
              "      <td>0.424758</td>\n",
              "      <td>0.512933</td>\n",
              "      <td>0.584067</td>\n",
              "      <td>0.552675</td>\n",
              "      <td>0.476650</td>\n",
              "      <td>0.548985</td>\n",
              "      <td>0.531247</td>\n",
              "      <td>0.658620</td>\n",
              "      <td>0.643365</td>\n",
              "      <td>0.428088</td>\n",
              "      <td>0.430490</td>\n",
              "      <td>0.479135</td>\n",
              "      <td>0.552447</td>\n",
              "      <td>0.357357</td>\n",
              "      <td>0.525970</td>\n",
              "      <td>0.356148</td>\n",
              "      <td>...</td>\n",
              "      <td>0.487850</td>\n",
              "      <td>0.580228</td>\n",
              "      <td>0.478385</td>\n",
              "      <td>0.393925</td>\n",
              "      <td>0.450248</td>\n",
              "      <td>0.516688</td>\n",
              "      <td>0.502765</td>\n",
              "      <td>0.519838</td>\n",
              "      <td>0.366737</td>\n",
              "      <td>0.444545</td>\n",
              "      <td>0.458915</td>\n",
              "      <td>0.560207</td>\n",
              "      <td>0.395087</td>\n",
              "      <td>0.440330</td>\n",
              "      <td>0.530005</td>\n",
              "      <td>0.543217</td>\n",
              "      <td>0.296300</td>\n",
              "      <td>0.619490</td>\n",
              "      <td>0.548630</td>\n",
              "      <td>0.531095</td>\n",
              "      <td>0.460863</td>\n",
              "      <td>0.487260</td>\n",
              "      <td>0.385223</td>\n",
              "      <td>0.481095</td>\n",
              "      <td>0.615505</td>\n",
              "      <td>0.538882</td>\n",
              "      <td>0.478712</td>\n",
              "      <td>0.578120</td>\n",
              "      <td>0.486775</td>\n",
              "      <td>0.384707</td>\n",
              "      <td>0.370607</td>\n",
              "      <td>0.571075</td>\n",
              "      <td>0.438712</td>\n",
              "      <td>0.429145</td>\n",
              "      <td>0.459985</td>\n",
              "      <td>0.417492</td>\n",
              "      <td>0.495537</td>\n",
              "      <td>0.585468</td>\n",
              "      <td>0.469020</td>\n",
              "      <td>1.000000</td>\n",
              "    </tr>\n",
              "    <tr>\n",
              "      <th>max</th>\n",
              "      <td>4500.000000</td>\n",
              "      <td>2.518200</td>\n",
              "      <td>2.452530</td>\n",
              "      <td>3.637160</td>\n",
              "      <td>2.775740</td>\n",
              "      <td>3.247220</td>\n",
              "      <td>3.028140</td>\n",
              "      <td>2.761340</td>\n",
              "      <td>2.548660</td>\n",
              "      <td>2.384070</td>\n",
              "      <td>2.540040</td>\n",
              "      <td>2.905480</td>\n",
              "      <td>2.567410</td>\n",
              "      <td>2.234940</td>\n",
              "      <td>2.355530</td>\n",
              "      <td>2.559010</td>\n",
              "      <td>1.984050</td>\n",
              "      <td>3.117160</td>\n",
              "      <td>2.510570</td>\n",
              "      <td>2.808910</td>\n",
              "      <td>3.021600</td>\n",
              "      <td>2.430870</td>\n",
              "      <td>2.991850</td>\n",
              "      <td>2.611520</td>\n",
              "      <td>2.663660</td>\n",
              "      <td>2.545910</td>\n",
              "      <td>2.526510</td>\n",
              "      <td>3.244310</td>\n",
              "      <td>2.294230</td>\n",
              "      <td>2.528890</td>\n",
              "      <td>2.596990</td>\n",
              "      <td>3.286490</td>\n",
              "      <td>2.758680</td>\n",
              "      <td>2.520270</td>\n",
              "      <td>2.413490</td>\n",
              "      <td>2.540670</td>\n",
              "      <td>2.465270</td>\n",
              "      <td>2.542170</td>\n",
              "      <td>2.585540</td>\n",
              "      <td>2.669540</td>\n",
              "      <td>...</td>\n",
              "      <td>2.344440</td>\n",
              "      <td>3.317680</td>\n",
              "      <td>2.420120</td>\n",
              "      <td>2.438640</td>\n",
              "      <td>2.894420</td>\n",
              "      <td>2.896190</td>\n",
              "      <td>2.881940</td>\n",
              "      <td>2.584410</td>\n",
              "      <td>2.663140</td>\n",
              "      <td>2.538540</td>\n",
              "      <td>2.593230</td>\n",
              "      <td>4.030040</td>\n",
              "      <td>2.157160</td>\n",
              "      <td>2.370810</td>\n",
              "      <td>3.215670</td>\n",
              "      <td>2.458710</td>\n",
              "      <td>2.434880</td>\n",
              "      <td>2.488760</td>\n",
              "      <td>2.527360</td>\n",
              "      <td>2.625130</td>\n",
              "      <td>2.283110</td>\n",
              "      <td>2.720860</td>\n",
              "      <td>2.561200</td>\n",
              "      <td>2.093630</td>\n",
              "      <td>3.167490</td>\n",
              "      <td>3.287710</td>\n",
              "      <td>2.389750</td>\n",
              "      <td>2.654210</td>\n",
              "      <td>2.471530</td>\n",
              "      <td>2.573100</td>\n",
              "      <td>2.954360</td>\n",
              "      <td>2.375880</td>\n",
              "      <td>2.641460</td>\n",
              "      <td>3.227290</td>\n",
              "      <td>2.654210</td>\n",
              "      <td>2.833950</td>\n",
              "      <td>2.632360</td>\n",
              "      <td>2.405620</td>\n",
              "      <td>2.827810</td>\n",
              "      <td>1.000000</td>\n",
              "    </tr>\n",
              "  </tbody>\n",
              "</table>\n",
              "<p>8 rows × 514 columns</p>\n",
              "</div>"
            ],
            "text/plain": [
              "                id           v1  ...         v512      glasses\n",
              "count  4500.000000  4500.000000  ...  4500.000000  4500.000000\n",
              "mean   2250.500000     0.029433  ...    -0.064696     0.634667\n",
              "std    1299.182435     0.769812  ...     0.830538     0.481577\n",
              "min       1.000000    -2.895330  ...    -2.906970     0.000000\n",
              "25%    1125.750000    -0.489807  ...    -0.615955     0.000000\n",
              "50%    2250.500000    -0.001540  ...    -0.082685     1.000000\n",
              "75%    3375.250000     0.507332  ...     0.469020     1.000000\n",
              "max    4500.000000     2.518200  ...     2.827810     1.000000\n",
              "\n",
              "[8 rows x 514 columns]"
            ]
          },
          "metadata": {
            "tags": []
          },
          "execution_count": 5
        }
      ]
    },
    {
      "cell_type": "code",
      "metadata": {
        "colab": {
          "base_uri": "https://localhost:8080/"
        },
        "id": "TQsCgPAyzZMA",
        "outputId": "1ccbad15-e7da-49d7-dafb-061b6ed076c9"
      },
      "source": [
        "# check if there are the missing values \n",
        "\n",
        "train.isnull().sum()"
      ],
      "execution_count": 6,
      "outputs": [
        {
          "output_type": "execute_result",
          "data": {
            "text/plain": [
              "id         0\n",
              "v1         0\n",
              "v2         0\n",
              "v3         0\n",
              "v4         0\n",
              "          ..\n",
              "v509       0\n",
              "v510       0\n",
              "v511       0\n",
              "v512       0\n",
              "glasses    0\n",
              "Length: 514, dtype: int64"
            ]
          },
          "metadata": {
            "tags": []
          },
          "execution_count": 6
        }
      ]
    },
    {
      "cell_type": "code",
      "metadata": {
        "id": "tONPLJojKjEc"
      },
      "source": [
        "train_x1 = train.iloc[:,1:513]\n",
        "train_y = train.iloc[:,513:]\n",
        "# train_x\n",
        "# trian_y"
      ],
      "execution_count": 7,
      "outputs": []
    },
    {
      "cell_type": "code",
      "metadata": {
        "colab": {
          "base_uri": "https://localhost:8080/",
          "height": 299
        },
        "id": "4ksenXgTxbWi",
        "outputId": "e4a0391a-7689-4eb5-c2a1-1db03269a677"
      },
      "source": [
        "# Plot Distribution of the target variable\n",
        "\n",
        "plt.scatter(train_y.index,train_y.glasses)\n",
        "plt.title(\"Distribution of the target variable\")\n",
        "plt.ylabel(\"Glass or not glass\")\n",
        "rcParams['figure.figsize']=10,8\n",
        "plt.show()\n",
        "plt.savefig('1.jpg')"
      ],
      "execution_count": 8,
      "outputs": [
        {
          "output_type": "display_data",
          "data": {
            "image/png": "[encoded data removed]",
            "text/plain": [
              "<Figure size 432x288 with 1 Axes>"
            ]
          },
          "metadata": {
            "tags": [],
            "needs_background": "light"
          }
        },
        {
          "output_type": "display_data",
          "data": {
            "text/plain": [
              "<Figure size 720x576 with 0 Axes>"
            ]
          },
          "metadata": {
            "tags": []
          }
        }
      ]
    },
    {
      "cell_type": "code",
      "metadata": {
        "id": "rQfdlKspvf6J"
      },
      "source": [
        "sc = StandardScaler()\n",
        "train_x = sc.fit_transform(train_x1)"
      ],
      "execution_count": 9,
      "outputs": []
    },
    {
      "cell_type": "code",
      "metadata": {
        "id": "sItwQEc1J9ss"
      },
      "source": [
        "x_train,x_test,y_train,y_test = train_test_split(train_x,train_y,test_size=0.2,random_state=42)"
      ],
      "execution_count": 10,
      "outputs": []
    },
    {
      "cell_type": "code",
      "metadata": {
        "id": "rbeLNIZivh4l"
      },
      "source": [
        "# from sklearn.decomposition import PCA\n",
        "\n",
        "# pca = PCA(0.95)\n",
        "# train2 = pca.fit_transform(train1)"
      ],
      "execution_count": 11,
      "outputs": []
    },
    {
      "cell_type": "code",
      "metadata": {
        "colab": {
          "base_uri": "https://localhost:8080/"
        },
        "id": "UYRrpeXTM_qi",
        "outputId": "55a46b03-7780-4ef0-8b26-f0931d958290"
      },
      "source": [
        "x_train.shape"
      ],
      "execution_count": 12,
      "outputs": [
        {
          "output_type": "execute_result",
          "data": {
            "text/plain": [
              "(3600, 512)"
            ]
          },
          "metadata": {
            "tags": []
          },
          "execution_count": 12
        }
      ]
    },
    {
      "cell_type": "code",
      "metadata": {
        "colab": {
          "base_uri": "https://localhost:8080/"
        },
        "id": "8mX0IDicNC0f",
        "outputId": "cbd7aadd-bdd2-47b8-9d5b-4d544ce05ff9"
      },
      "source": [
        "y_train.shape"
      ],
      "execution_count": 13,
      "outputs": [
        {
          "output_type": "execute_result",
          "data": {
            "text/plain": [
              "(3600, 1)"
            ]
          },
          "metadata": {
            "tags": []
          },
          "execution_count": 13
        }
      ]
    },
    {
      "cell_type": "code",
      "metadata": {
        "colab": {
          "base_uri": "https://localhost:8080/"
        },
        "id": "mZjZO_otPVot",
        "outputId": "0d5c94f4-bd4c-4a66-bdb8-71ef1b3c391c"
      },
      "source": [
        "x_test.shape"
      ],
      "execution_count": 14,
      "outputs": [
        {
          "output_type": "execute_result",
          "data": {
            "text/plain": [
              "(900, 512)"
            ]
          },
          "metadata": {
            "tags": []
          },
          "execution_count": 14
        }
      ]
    },
    {
      "cell_type": "code",
      "metadata": {
        "colab": {
          "base_uri": "https://localhost:8080/"
        },
        "id": "XHsnZ2XtPX3u",
        "outputId": "9f576253-a656-49b9-8cae-a8b9ba005dbf"
      },
      "source": [
        "y_test.shape"
      ],
      "execution_count": 15,
      "outputs": [
        {
          "output_type": "execute_result",
          "data": {
            "text/plain": [
              "(900, 1)"
            ]
          },
          "metadata": {
            "tags": []
          },
          "execution_count": 15
        }
      ]
    },
    {
      "cell_type": "markdown",
      "metadata": {
        "id": "2VYczvnWggEl"
      },
      "source": [
        "# 1. Predicting output using SVM classifier"
      ]
    },
    {
      "cell_type": "code",
      "metadata": {
        "id": "KWMpmMAWvq0f",
        "colab": {
          "base_uri": "https://localhost:8080/"
        },
        "outputId": "8a897938-8667-4b2f-8a36-97ec65e88260"
      },
      "source": [
        "classifier_SVM = SVC(random_state=0)\n",
        "classifier_SVM.fit(x_train,y_train)"
      ],
      "execution_count": 16,
      "outputs": [
        {
          "output_type": "stream",
          "text": [
            "/usr/local/lib/python3.7/dist-packages/sklearn/utils/validation.py:760: DataConversionWarning: A column-vector y was passed when a 1d array was expected. Please change the shape of y to (n_samples, ), for example using ravel().\n",
            "  y = column_or_1d(y, warn=True)\n"
          ],
          "name": "stderr"
        },
        {
          "output_type": "execute_result",
          "data": {
            "text/plain": [
              "SVC(C=1.0, break_ties=False, cache_size=200, class_weight=None, coef0=0.0,\n",
              "    decision_function_shape='ovr', degree=3, gamma='scale', kernel='rbf',\n",
              "    max_iter=-1, probability=False, random_state=0, shrinking=True, tol=0.001,\n",
              "    verbose=False)"
            ]
          },
          "metadata": {
            "tags": []
          },
          "execution_count": 16
        }
      ]
    },
    {
      "cell_type": "code",
      "metadata": {
        "id": "OIaauh0lNiOa"
      },
      "source": [
        "y_pred_SVM = classifier_SVM.predict(x_test)"
      ],
      "execution_count": 17,
      "outputs": []
    },
    {
      "cell_type": "code",
      "metadata": {
        "colab": {
          "base_uri": "https://localhost:8080/"
        },
        "id": "l01Rfj191gyy",
        "outputId": "7b1e43ae-f459-496d-eae5-13a9be7d121b"
      },
      "source": [
        "cross_val_score(classifier_SVM,train_x,train_y,cv=5,scoring='roc_auc')"
      ],
      "execution_count": 18,
      "outputs": [
        {
          "output_type": "stream",
          "text": [
            "/usr/local/lib/python3.7/dist-packages/sklearn/utils/validation.py:760: DataConversionWarning: A column-vector y was passed when a 1d array was expected. Please change the shape of y to (n_samples, ), for example using ravel().\n",
            "  y = column_or_1d(y, warn=True)\n",
            "/usr/local/lib/python3.7/dist-packages/sklearn/utils/validation.py:760: DataConversionWarning: A column-vector y was passed when a 1d array was expected. Please change the shape of y to (n_samples, ), for example using ravel().\n",
            "  y = column_or_1d(y, warn=True)\n",
            "/usr/local/lib/python3.7/dist-packages/sklearn/utils/validation.py:760: DataConversionWarning: A column-vector y was passed when a 1d array was expected. Please change the shape of y to (n_samples, ), for example using ravel().\n",
            "  y = column_or_1d(y, warn=True)\n",
            "/usr/local/lib/python3.7/dist-packages/sklearn/utils/validation.py:760: DataConversionWarning: A column-vector y was passed when a 1d array was expected. Please change the shape of y to (n_samples, ), for example using ravel().\n",
            "  y = column_or_1d(y, warn=True)\n",
            "/usr/local/lib/python3.7/dist-packages/sklearn/utils/validation.py:760: DataConversionWarning: A column-vector y was passed when a 1d array was expected. Please change the shape of y to (n_samples, ), for example using ravel().\n",
            "  y = column_or_1d(y, warn=True)\n"
          ],
          "name": "stderr"
        },
        {
          "output_type": "execute_result",
          "data": {
            "text/plain": [
              "array([1., 1., 1., 1., 1.])"
            ]
          },
          "metadata": {
            "tags": []
          },
          "execution_count": 18
        }
      ]
    },
    {
      "cell_type": "code",
      "metadata": {
        "colab": {
          "base_uri": "https://localhost:8080/"
        },
        "id": "oN9B8cn_RrTj",
        "outputId": "cb305cb0-fc57-4ad4-f773-9c55a9ab1135"
      },
      "source": [
        "cnf_matrix_SVM = confusion_matrix(y_pred_SVM,y_test)\n",
        "cnf_matrix_SVM"
      ],
      "execution_count": 19,
      "outputs": [
        {
          "output_type": "execute_result",
          "data": {
            "text/plain": [
              "array([[323,   0],\n",
              "       [  0, 577]])"
            ]
          },
          "metadata": {
            "tags": []
          },
          "execution_count": 19
        }
      ]
    },
    {
      "cell_type": "code",
      "metadata": {
        "colab": {
          "base_uri": "https://localhost:8080/",
          "height": 515
        },
        "id": "a--rwmeC4Kci",
        "outputId": "9018a2f5-8280-4a4f-d5e3-1f323d5a23eb"
      },
      "source": [
        "plot_confusion_matrix(classifier_SVM,x_test,y_test) "
      ],
      "execution_count": 20,
      "outputs": [
        {
          "output_type": "execute_result",
          "data": {
            "text/plain": [
              "<sklearn.metrics._plot.confusion_matrix.ConfusionMatrixDisplay at 0x7f7769a37250>"
            ]
          },
          "metadata": {
            "tags": []
          },
          "execution_count": 20
        },
        {
          "output_type": "display_data",
          "data": {
            "image/png": "[encoded data removed]",
            "text/plain": [
              "<Figure size 720x576 with 2 Axes>"
            ]
          },
          "metadata": {
            "tags": [],
            "needs_background": "light"
          }
        }
      ]
    },
    {
      "cell_type": "code",
      "metadata": {
        "colab": {
          "base_uri": "https://localhost:8080/",
          "height": 515
        },
        "id": "tHM7YgZX6Cpl",
        "outputId": "b5f17e94-5950-4d9e-9493-49ec197956e3"
      },
      "source": [
        "metrics.plot_roc_curve(classifier_SVM, x_test, y_test)"
      ],
      "execution_count": 21,
      "outputs": [
        {
          "output_type": "execute_result",
          "data": {
            "text/plain": [
              "<sklearn.metrics._plot.roc_curve.RocCurveDisplay at 0x7f7752604a50>"
            ]
          },
          "metadata": {
            "tags": []
          },
          "execution_count": 21
        },
        {
          "output_type": "display_data",
          "data": {
            "image/png": "[encoded data removed]",
            "text/plain": [
              "<Figure size 720x576 with 1 Axes>"
            ]
          },
          "metadata": {
            "tags": [],
            "needs_background": "light"
          }
        }
      ]
    },
    {
      "cell_type": "code",
      "metadata": {
        "colab": {
          "base_uri": "https://localhost:8080/"
        },
        "id": "kQwEbwR9EXtg",
        "outputId": "d63f0400-9c3f-4dbc-b22c-ec801cae2c7f"
      },
      "source": [
        "precision_recall_fscore_support(y_test, y_pred_SVM) "
      ],
      "execution_count": 22,
      "outputs": [
        {
          "output_type": "execute_result",
          "data": {
            "text/plain": [
              "(array([1., 1.]), array([1., 1.]), array([1., 1.]), array([323, 577]))"
            ]
          },
          "metadata": {
            "tags": []
          },
          "execution_count": 22
        }
      ]
    },
    {
      "cell_type": "code",
      "metadata": {
        "colab": {
          "base_uri": "https://localhost:8080/"
        },
        "id": "UJdqMovSNWIy",
        "outputId": "9ce16cb4-b6a6-416b-deb3-7a8789beca2f"
      },
      "source": [
        "accuracy_score(y_test,y_pred_SVM)"
      ],
      "execution_count": 23,
      "outputs": [
        {
          "output_type": "execute_result",
          "data": {
            "text/plain": [
              "1.0"
            ]
          },
          "metadata": {
            "tags": []
          },
          "execution_count": 23
        }
      ]
    },
    {
      "cell_type": "code",
      "metadata": {
        "colab": {
          "base_uri": "https://localhost:8080/"
        },
        "id": "HvfD7Sv_-beO",
        "outputId": "48625ade-1eaf-4931-f973-c9b22ab12524"
      },
      "source": [
        "classifier_SVM.get_params()"
      ],
      "execution_count": 24,
      "outputs": [
        {
          "output_type": "execute_result",
          "data": {
            "text/plain": [
              "{'C': 1.0,\n",
              " 'break_ties': False,\n",
              " 'cache_size': 200,\n",
              " 'class_weight': None,\n",
              " 'coef0': 0.0,\n",
              " 'decision_function_shape': 'ovr',\n",
              " 'degree': 3,\n",
              " 'gamma': 'scale',\n",
              " 'kernel': 'rbf',\n",
              " 'max_iter': -1,\n",
              " 'probability': False,\n",
              " 'random_state': 0,\n",
              " 'shrinking': True,\n",
              " 'tol': 0.001,\n",
              " 'verbose': False}"
            ]
          },
          "metadata": {
            "tags": []
          },
          "execution_count": 24
        }
      ]
    },
    {
      "cell_type": "markdown",
      "metadata": {
        "id": "gpqUZiGVtcgR"
      },
      "source": [
        "# 2. Predicting output using KNN classifier"
      ]
    },
    {
      "cell_type": "code",
      "metadata": {
        "colab": {
          "base_uri": "https://localhost:8080/"
        },
        "id": "FIH6TZd-t5O9",
        "outputId": "67346d00-d0f1-44b0-a049-4a7b82d00736"
      },
      "source": [
        "from sklearn.neighbors import KNeighborsClassifier\n",
        "\n",
        "classifier_KNN = KNeighborsClassifier(n_neighbors=5)\n",
        "classifier_KNN.fit(x_train,y_train)"
      ],
      "execution_count": 25,
      "outputs": [
        {
          "output_type": "stream",
          "text": [
            "/usr/local/lib/python3.7/dist-packages/ipykernel_launcher.py:4: DataConversionWarning: A column-vector y was passed when a 1d array was expected. Please change the shape of y to (n_samples, ), for example using ravel().\n",
            "  after removing the cwd from sys.path.\n"
          ],
          "name": "stderr"
        },
        {
          "output_type": "execute_result",
          "data": {
            "text/plain": [
              "KNeighborsClassifier(algorithm='auto', leaf_size=30, metric='minkowski',\n",
              "                     metric_params=None, n_jobs=None, n_neighbors=5, p=2,\n",
              "                     weights='uniform')"
            ]
          },
          "metadata": {
            "tags": []
          },
          "execution_count": 25
        }
      ]
    },
    {
      "cell_type": "code",
      "metadata": {
        "id": "C-9LL2B-uzxr"
      },
      "source": [
        "y_pred_KNN = classifier_KNN.predict(x_test)"
      ],
      "execution_count": 26,
      "outputs": []
    },
    {
      "cell_type": "code",
      "metadata": {
        "colab": {
          "base_uri": "https://localhost:8080/"
        },
        "id": "tcFCCdMu1K9m",
        "outputId": "1bd2dc08-d1c3-40e4-f9e8-f1e3c11044b3"
      },
      "source": [
        "cross_val_score(classifier_KNN,train_x,train_y,cv=5,scoring='roc_auc')"
      ],
      "execution_count": 27,
      "outputs": [
        {
          "output_type": "stream",
          "text": [
            "/usr/local/lib/python3.7/dist-packages/sklearn/model_selection/_validation.py:515: DataConversionWarning: A column-vector y was passed when a 1d array was expected. Please change the shape of y to (n_samples, ), for example using ravel().\n",
            "  estimator.fit(X_train, y_train, **fit_params)\n",
            "/usr/local/lib/python3.7/dist-packages/sklearn/model_selection/_validation.py:515: DataConversionWarning: A column-vector y was passed when a 1d array was expected. Please change the shape of y to (n_samples, ), for example using ravel().\n",
            "  estimator.fit(X_train, y_train, **fit_params)\n",
            "/usr/local/lib/python3.7/dist-packages/sklearn/model_selection/_validation.py:515: DataConversionWarning: A column-vector y was passed when a 1d array was expected. Please change the shape of y to (n_samples, ), for example using ravel().\n",
            "  estimator.fit(X_train, y_train, **fit_params)\n",
            "/usr/local/lib/python3.7/dist-packages/sklearn/model_selection/_validation.py:515: DataConversionWarning: A column-vector y was passed when a 1d array was expected. Please change the shape of y to (n_samples, ), for example using ravel().\n",
            "  estimator.fit(X_train, y_train, **fit_params)\n",
            "/usr/local/lib/python3.7/dist-packages/sklearn/model_selection/_validation.py:515: DataConversionWarning: A column-vector y was passed when a 1d array was expected. Please change the shape of y to (n_samples, ), for example using ravel().\n",
            "  estimator.fit(X_train, y_train, **fit_params)\n"
          ],
          "name": "stderr"
        },
        {
          "output_type": "execute_result",
          "data": {
            "text/plain": [
              "array([1.        , 1.        , 0.99848024, 1.        , 1.        ])"
            ]
          },
          "metadata": {
            "tags": []
          },
          "execution_count": 27
        }
      ]
    },
    {
      "cell_type": "code",
      "metadata": {
        "colab": {
          "base_uri": "https://localhost:8080/"
        },
        "id": "XyyKPCeyu2Ay",
        "outputId": "fbd01b21-9425-4459-8aa0-231c608e8dc3"
      },
      "source": [
        "cnf_matrix_KNN = confusion_matrix(y_pred_KNN,y_test)\n",
        "cnf_matrix_KNN"
      ],
      "execution_count": 28,
      "outputs": [
        {
          "output_type": "execute_result",
          "data": {
            "text/plain": [
              "array([[317,   0],\n",
              "       [  6, 577]])"
            ]
          },
          "metadata": {
            "tags": []
          },
          "execution_count": 28
        }
      ]
    },
    {
      "cell_type": "code",
      "metadata": {
        "colab": {
          "base_uri": "https://localhost:8080/",
          "height": 515
        },
        "id": "yJFFIxFy4u_v",
        "outputId": "9e20b0d8-d274-4beb-afa5-da962aa75361"
      },
      "source": [
        "plot_confusion_matrix(classifier_KNN,x_test,y_test) "
      ],
      "execution_count": 29,
      "outputs": [
        {
          "output_type": "execute_result",
          "data": {
            "text/plain": [
              "<sklearn.metrics._plot.confusion_matrix.ConfusionMatrixDisplay at 0x7f7752747b90>"
            ]
          },
          "metadata": {
            "tags": []
          },
          "execution_count": 29
        },
        {
          "output_type": "display_data",
          "data": {
            "image/png": "[encoded data removed]",
            "text/plain": [
              "<Figure size 720x576 with 2 Axes>"
            ]
          },
          "metadata": {
            "tags": [],
            "needs_background": "light"
          }
        }
      ]
    },
    {
      "cell_type": "code",
      "metadata": {
        "colab": {
          "base_uri": "https://localhost:8080/",
          "height": 515
        },
        "id": "-_6sF5up6T4x",
        "outputId": "ed9ab0a2-6378-4081-d4b7-dda3e2d85d3a"
      },
      "source": [
        "metrics.plot_roc_curve(classifier_KNN, x_test, y_test)"
      ],
      "execution_count": 30,
      "outputs": [
        {
          "output_type": "execute_result",
          "data": {
            "text/plain": [
              "<sklearn.metrics._plot.roc_curve.RocCurveDisplay at 0x7f7752580cd0>"
            ]
          },
          "metadata": {
            "tags": []
          },
          "execution_count": 30
        },
        {
          "output_type": "display_data",
          "data": {
            "image/png": "[encoded data removed]",
            "text/plain": [
              "<Figure size 720x576 with 1 Axes>"
            ]
          },
          "metadata": {
            "tags": [],
            "needs_background": "light"
          }
        }
      ]
    },
    {
      "cell_type": "code",
      "metadata": {
        "colab": {
          "base_uri": "https://localhost:8080/"
        },
        "id": "lsoyWEA0EcfA",
        "outputId": "2a11b7f4-9050-4300-d0f8-5da48021ff05"
      },
      "source": [
        "precision_recall_fscore_support(y_test, y_pred_KNN) "
      ],
      "execution_count": 31,
      "outputs": [
        {
          "output_type": "execute_result",
          "data": {
            "text/plain": [
              "(array([1.       , 0.9897084]),\n",
              " array([0.98142415, 1.        ]),\n",
              " array([0.990625  , 0.99482759]),\n",
              " array([323, 577]))"
            ]
          },
          "metadata": {
            "tags": []
          },
          "execution_count": 31
        }
      ]
    },
    {
      "cell_type": "code",
      "metadata": {
        "colab": {
          "base_uri": "https://localhost:8080/"
        },
        "id": "KFvWwBcwu3pQ",
        "outputId": "b6cf9d0c-924c-460b-8b26-5522432401ba"
      },
      "source": [
        "accuracy_score(y_pred_KNN,y_test)"
      ],
      "execution_count": 32,
      "outputs": [
        {
          "output_type": "execute_result",
          "data": {
            "text/plain": [
              "0.9933333333333333"
            ]
          },
          "metadata": {
            "tags": []
          },
          "execution_count": 32
        }
      ]
    },
    {
      "cell_type": "code",
      "metadata": {
        "colab": {
          "base_uri": "https://localhost:8080/"
        },
        "id": "co3NImsK-YgM",
        "outputId": "bb7f8a50-acb6-4ffa-d6c5-bb101ba08b5e"
      },
      "source": [
        "classifier_KNN.get_params()"
      ],
      "execution_count": 33,
      "outputs": [
        {
          "output_type": "execute_result",
          "data": {
            "text/plain": [
              "{'algorithm': 'auto',\n",
              " 'leaf_size': 30,\n",
              " 'metric': 'minkowski',\n",
              " 'metric_params': None,\n",
              " 'n_jobs': None,\n",
              " 'n_neighbors': 5,\n",
              " 'p': 2,\n",
              " 'weights': 'uniform'}"
            ]
          },
          "metadata": {
            "tags": []
          },
          "execution_count": 33
        }
      ]
    },
    {
      "cell_type": "markdown",
      "metadata": {
        "id": "RfhAVrtWuXTj"
      },
      "source": [
        "# 3. Predicting output using Neural network classifier"
      ]
    },
    {
      "cell_type": "code",
      "metadata": {
        "id": "DYfT0v3Xh5IQ",
        "colab": {
          "base_uri": "https://localhost:8080/"
        },
        "outputId": "59496a73-009f-4e6c-ca11-d867e965e768"
      },
      "source": [
        "from sklearn.neural_network import MLPClassifier\n",
        "classifier_MLP = MLPClassifier(random_state=1, max_iter=300)\n",
        "classifier_MLP.fit(x_train,y_train)"
      ],
      "execution_count": 34,
      "outputs": [
        {
          "output_type": "stream",
          "text": [
            "/usr/local/lib/python3.7/dist-packages/sklearn/neural_network/_multilayer_perceptron.py:934: DataConversionWarning: A column-vector y was passed when a 1d array was expected. Please change the shape of y to (n_samples, ), for example using ravel().\n",
            "  y = column_or_1d(y, warn=True)\n"
          ],
          "name": "stderr"
        },
        {
          "output_type": "execute_result",
          "data": {
            "text/plain": [
              "MLPClassifier(activation='relu', alpha=0.0001, batch_size='auto', beta_1=0.9,\n",
              "              beta_2=0.999, early_stopping=False, epsilon=1e-08,\n",
              "              hidden_layer_sizes=(100,), learning_rate='constant',\n",
              "              learning_rate_init=0.001, max_fun=15000, max_iter=300,\n",
              "              momentum=0.9, n_iter_no_change=10, nesterovs_momentum=True,\n",
              "              power_t=0.5, random_state=1, shuffle=True, solver='adam',\n",
              "              tol=0.0001, validation_fraction=0.1, verbose=False,\n",
              "              warm_start=False)"
            ]
          },
          "metadata": {
            "tags": []
          },
          "execution_count": 34
        }
      ]
    },
    {
      "cell_type": "code",
      "metadata": {
        "id": "iUXU2RrYu5LV"
      },
      "source": [
        "y_pred_MLP = classifier_MLP.predict(x_test)"
      ],
      "execution_count": 35,
      "outputs": []
    },
    {
      "cell_type": "code",
      "metadata": {
        "colab": {
          "base_uri": "https://localhost:8080/"
        },
        "id": "_2abxn451kys",
        "outputId": "2d228f79-5ca9-4e72-c9c1-5e12bb394cd9"
      },
      "source": [
        "cross_val_score(classifier_MLP,train_x,train_y,cv=5,scoring='roc_auc')"
      ],
      "execution_count": 36,
      "outputs": [
        {
          "output_type": "stream",
          "text": [
            "/usr/local/lib/python3.7/dist-packages/sklearn/neural_network/_multilayer_perceptron.py:934: DataConversionWarning: A column-vector y was passed when a 1d array was expected. Please change the shape of y to (n_samples, ), for example using ravel().\n",
            "  y = column_or_1d(y, warn=True)\n",
            "/usr/local/lib/python3.7/dist-packages/sklearn/neural_network/_multilayer_perceptron.py:934: DataConversionWarning: A column-vector y was passed when a 1d array was expected. Please change the shape of y to (n_samples, ), for example using ravel().\n",
            "  y = column_or_1d(y, warn=True)\n",
            "/usr/local/lib/python3.7/dist-packages/sklearn/neural_network/_multilayer_perceptron.py:934: DataConversionWarning: A column-vector y was passed when a 1d array was expected. Please change the shape of y to (n_samples, ), for example using ravel().\n",
            "  y = column_or_1d(y, warn=True)\n",
            "/usr/local/lib/python3.7/dist-packages/sklearn/neural_network/_multilayer_perceptron.py:934: DataConversionWarning: A column-vector y was passed when a 1d array was expected. Please change the shape of y to (n_samples, ), for example using ravel().\n",
            "  y = column_or_1d(y, warn=True)\n",
            "/usr/local/lib/python3.7/dist-packages/sklearn/neural_network/_multilayer_perceptron.py:934: DataConversionWarning: A column-vector y was passed when a 1d array was expected. Please change the shape of y to (n_samples, ), for example using ravel().\n",
            "  y = column_or_1d(y, warn=True)\n"
          ],
          "name": "stderr"
        },
        {
          "output_type": "execute_result",
          "data": {
            "text/plain": [
              "array([1., 1., 1., 1., 1.])"
            ]
          },
          "metadata": {
            "tags": []
          },
          "execution_count": 36
        }
      ]
    },
    {
      "cell_type": "code",
      "metadata": {
        "colab": {
          "base_uri": "https://localhost:8080/"
        },
        "id": "R5xwR6FDu6Ow",
        "outputId": "4c87927c-cf60-48a5-9940-504881aa9f32"
      },
      "source": [
        "cnf_matrix_MLP = confusion_matrix(y_pred_MLP,y_test)\n",
        "cnf_matrix_MLP"
      ],
      "execution_count": 37,
      "outputs": [
        {
          "output_type": "execute_result",
          "data": {
            "text/plain": [
              "array([[321,   0],\n",
              "       [  2, 577]])"
            ]
          },
          "metadata": {
            "tags": []
          },
          "execution_count": 37
        }
      ]
    },
    {
      "cell_type": "code",
      "metadata": {
        "colab": {
          "base_uri": "https://localhost:8080/",
          "height": 515
        },
        "id": "-QcnYqOG4zIp",
        "outputId": "13147773-459a-4cf4-fbfa-52b12da58524"
      },
      "source": [
        "plot_confusion_matrix(classifier_MLP,x_test,y_test) "
      ],
      "execution_count": 39,
      "outputs": [
        {
          "output_type": "execute_result",
          "data": {
            "text/plain": [
              "<sklearn.metrics._plot.confusion_matrix.ConfusionMatrixDisplay at 0x7f7752646b50>"
            ]
          },
          "metadata": {
            "tags": []
          },
          "execution_count": 39
        },
        {
          "output_type": "display_data",
          "data": {
            "image/png": "[encoded data removed]",
            "text/plain": [
              "<Figure size 720x576 with 2 Axes>"
            ]
          },
          "metadata": {
            "tags": [],
            "needs_background": "light"
          }
        }
      ]
    },
    {
      "cell_type": "code",
      "metadata": {
        "colab": {
          "base_uri": "https://localhost:8080/",
          "height": 515
        },
        "id": "3M5UX0Ja6ZBe",
        "outputId": "d54a04a3-4b75-4004-db49-5a2f51336490"
      },
      "source": [
        "metrics.plot_roc_curve(classifier_MLP, x_test, y_test)"
      ],
      "execution_count": 40,
      "outputs": [
        {
          "output_type": "execute_result",
          "data": {
            "text/plain": [
              "<sklearn.metrics._plot.roc_curve.RocCurveDisplay at 0x7f7748f97050>"
            ]
          },
          "metadata": {
            "tags": []
          },
          "execution_count": 40
        },
        {
          "output_type": "display_data",
          "data": {
            "image/png": "[encoded data removed]",
            "text/plain": [
              "<Figure size 720x576 with 1 Axes>"
            ]
          },
          "metadata": {
            "tags": [],
            "needs_background": "light"
          }
        }
      ]
    },
    {
      "cell_type": "code",
      "metadata": {
        "colab": {
          "base_uri": "https://localhost:8080/"
        },
        "id": "uhJt2OlYDeGT",
        "outputId": "e3f3c7f4-8b1e-423e-aa3b-afa0a24f4305"
      },
      "source": [
        "precision_recall_fscore_support(y_test, y_pred_MLP)"
      ],
      "execution_count": 41,
      "outputs": [
        {
          "output_type": "execute_result",
          "data": {
            "text/plain": [
              "(array([1.        , 0.99654577]),\n",
              " array([0.99380805, 1.        ]),\n",
              " array([0.99689441, 0.9982699 ]),\n",
              " array([323, 577]))"
            ]
          },
          "metadata": {
            "tags": []
          },
          "execution_count": 41
        }
      ]
    },
    {
      "cell_type": "code",
      "metadata": {
        "colab": {
          "base_uri": "https://localhost:8080/"
        },
        "id": "E43C8gV3u7Gp",
        "outputId": "9d225348-7e4b-4d22-9145-940cc2026071"
      },
      "source": [
        "accuracy_score(y_pred_MLP,y_test)"
      ],
      "execution_count": 42,
      "outputs": [
        {
          "output_type": "execute_result",
          "data": {
            "text/plain": [
              "0.9977777777777778"
            ]
          },
          "metadata": {
            "tags": []
          },
          "execution_count": 42
        }
      ]
    },
    {
      "cell_type": "code",
      "metadata": {
        "id": "E7aiNxbMTXaq"
      },
      "source": [
        ""
      ],
      "execution_count": 42,
      "outputs": []
    },
    {
      "cell_type": "code",
      "metadata": {
        "colab": {
          "base_uri": "https://localhost:8080/"
        },
        "id": "zpaC6WH3PQQp",
        "outputId": "9127ef85-1b0c-495d-c007-6446ab2fcc23"
      },
      "source": [
        "classifier_MLP.get_params()"
      ],
      "execution_count": 43,
      "outputs": [
        {
          "output_type": "execute_result",
          "data": {
            "text/plain": [
              "{'activation': 'relu',\n",
              " 'alpha': 0.0001,\n",
              " 'batch_size': 'auto',\n",
              " 'beta_1': 0.9,\n",
              " 'beta_2': 0.999,\n",
              " 'early_stopping': False,\n",
              " 'epsilon': 1e-08,\n",
              " 'hidden_layer_sizes': (100,),\n",
              " 'learning_rate': 'constant',\n",
              " 'learning_rate_init': 0.001,\n",
              " 'max_fun': 15000,\n",
              " 'max_iter': 300,\n",
              " 'momentum': 0.9,\n",
              " 'n_iter_no_change': 10,\n",
              " 'nesterovs_momentum': True,\n",
              " 'power_t': 0.5,\n",
              " 'random_state': 1,\n",
              " 'shuffle': True,\n",
              " 'solver': 'adam',\n",
              " 'tol': 0.0001,\n",
              " 'validation_fraction': 0.1,\n",
              " 'verbose': False,\n",
              " 'warm_start': False}"
            ]
          },
          "metadata": {
            "tags": []
          },
          "execution_count": 43
        }
      ]
    },
    {
      "cell_type": "markdown",
      "metadata": {
        "id": "cOklrmtf_8F8"
      },
      "source": [
        "**End of the Project**"
      ]
    }
  ]
}